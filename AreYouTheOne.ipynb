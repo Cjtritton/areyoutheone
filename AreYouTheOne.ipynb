{
 "cells": [
  {
   "cell_type": "markdown",
   "metadata": {},
   "source": [
    "Generate Pairs"
   ]
  },
  {
   "cell_type": "code",
   "execution_count": 2,
   "metadata": {},
   "outputs": [],
   "source": [
    "num_pairs = 11\n",
    "def generatePairs():\n",
    "    from random import shuffle\n",
    "    women = []\n",
    "    for woman in range(0,num_pairs):\n",
    "        women.append('F'+str(woman).zfill(2))\n",
    "    shuffle(women) # Shuffle newwords\n",
    "    pairs = {}\n",
    "    for i in range(0,num_pairs):\n",
    "        pairs['M'+str(i).zfill(2)] = women[i]\n",
    "    return pairs\n",
    "\n",
    "matches = generatePairs()"
   ]
  },
  {
   "cell_type": "code",
   "execution_count": 3,
   "metadata": {},
   "outputs": [
    {
     "name": "stdout",
     "output_type": "stream",
     "text": [
      "{   'M00': 'F06',\n",
      "    'M01': 'F04',\n",
      "    'M02': 'F08',\n",
      "    'M03': 'F00',\n",
      "    'M04': 'F05',\n",
      "    'M05': 'F09',\n",
      "    'M06': 'F10',\n",
      "    'M07': 'F03',\n",
      "    'M08': 'F02',\n",
      "    'M09': 'F01',\n",
      "    'M10': 'F07'}\n"
     ]
    }
   ],
   "source": [
    "import pprint\n",
    "pp = pprint.PrettyPrinter(indent=4)\n",
    "pp.pprint(matches)"
   ]
  },
  {
   "cell_type": "code",
   "execution_count": 4,
   "metadata": {},
   "outputs": [
    {
     "name": "stdout",
     "output_type": "stream",
     "text": [
      "{   'M00': 'F10',\n",
      "    'M01': 'F02',\n",
      "    'M02': 'F00',\n",
      "    'M03': 'F04',\n",
      "    'M04': 'F09',\n",
      "    'M05': 'F07',\n",
      "    'M06': 'F03',\n",
      "    'M07': 'F01',\n",
      "    'M08': 'F08',\n",
      "    'M09': 'F06',\n",
      "    'M10': 'F05'}\n"
     ]
    }
   ],
   "source": [
    "possible = generatePairs()\n",
    "pp.pprint(possible)"
   ]
  },
  {
   "cell_type": "code",
   "execution_count": 5,
   "metadata": {},
   "outputs": [
    {
     "name": "stdout",
     "output_type": "stream",
     "text": [
      "0\n"
     ]
    }
   ],
   "source": [
    "def compare(pairing1, pairing2):\n",
    "    beams = 0\n",
    "    for man in pairing1:\n",
    "        if pairing1[man] == pairing2[man]:\n",
    "            beams+=1\n",
    "    return beams\n",
    "        \n",
    "print(compare(possible, matches))"
   ]
  },
  {
   "cell_type": "code",
   "execution_count": 6,
   "metadata": {},
   "outputs": [
    {
     "name": "stdout",
     "output_type": "stream",
     "text": [
      "can't swap less than 2\n",
      "can't swap less than 2\n",
      "can't swap more pairs than exist, num_pairs=11\n",
      "{   'M00': 'F10',\n",
      "    'M01': 'F02',\n",
      "    'M02': 'F00',\n",
      "    'M03': 'F04',\n",
      "    'M04': 'F09',\n",
      "    'M05': 'F07',\n",
      "    'M06': 'F03',\n",
      "    'M07': 'F01',\n",
      "    'M08': 'F08',\n",
      "    'M09': 'F06',\n",
      "    'M10': 'F05'}\n",
      "{   'M00': 'F10',\n",
      "    'M01': 'F02',\n",
      "    'M02': 'F00',\n",
      "    'M03': 'F01',\n",
      "    'M04': 'F09',\n",
      "    'M05': 'F07',\n",
      "    'M06': 'F03',\n",
      "    'M07': 'F04',\n",
      "    'M08': 'F08',\n",
      "    'M09': 'F06',\n",
      "    'M10': 'F05'}\n"
     ]
    }
   ],
   "source": [
    "from random import randint\n",
    "def swap(number, pairs):\n",
    "    newpairs = pairs.copy()\n",
    "    if number > num_pairs:\n",
    "        print(\"can't swap more pairs than exist, num_pairs=\"+str(num_pairs))\n",
    "    elif number > 1:\n",
    "        couples_to_swap = []\n",
    "        for i in range(0, number):\n",
    "            couples_to_swap.append(randint(0,num_pairs-1))\n",
    "        #print(couples_to_swap)\n",
    "        #for i in couples_to_swap:\n",
    "            #print(pairs['M'+str(i).zfill(2)])\n",
    "        newpairs['M'+str(couples_to_swap[0]).zfill(2)] = pairs['M'+str(couples_to_swap[1]).zfill(2)]\n",
    "        newpairs['M'+str(couples_to_swap[1]).zfill(2)] = pairs['M'+str(couples_to_swap[0]).zfill(2)]\n",
    "        return newpairs\n",
    "    else:\n",
    "        print(\"can't swap less than 2\")\n",
    "            \n",
    "swap(1, possible) #should error, not enough\n",
    "swap(0, possible) #shoule error, not enough\n",
    "swap(12, possible) #should error too many\n",
    "\n",
    "pp.pprint(possible)\n",
    "swapped = swap(2, possible)\n",
    "pp.pprint(swapped)"
   ]
  },
  {
   "cell_type": "code",
   "execution_count": 7,
   "metadata": {},
   "outputs": [
    {
     "name": "stdout",
     "output_type": "stream",
     "text": [
      "{   'M00': 'F10',\n",
      "    'M01': 'F02',\n",
      "    'M02': 'F00',\n",
      "    'M03': 'F04',\n",
      "    'M04': 'F09',\n",
      "    'M05': 'F07',\n",
      "    'M06': 'F03',\n",
      "    'M07': 'F01',\n",
      "    'M08': 'F08',\n",
      "    'M09': 'F06',\n",
      "    'M10': 'F05'}\n",
      "0\n",
      "0\n",
      "0\n",
      "0\n"
     ]
    }
   ],
   "source": [
    "pp.pprint(possible)\n",
    "print(compare(possible, matches))\n",
    "week2 = swap(2, possible)\n",
    "print(compare(week2, matches))\n",
    "week3 = swap(2, week2)\n",
    "print(compare(week3, matches))\n",
    "week4 = swap(2, week3)\n",
    "print(compare(week4, matches))\n",
    "\n"
   ]
  },
  {
   "cell_type": "code",
   "execution_count": 8,
   "metadata": {},
   "outputs": [
    {
     "name": "stdout",
     "output_type": "stream",
     "text": [
      "2\n",
      "1\n",
      "3\n",
      "1\n",
      "4\n",
      "1\n",
      "5\n",
      "1\n",
      "6\n",
      "1\n",
      "7\n",
      "1\n",
      "8\n",
      "1\n",
      "9\n",
      "0\n",
      "10\n",
      "0\n"
     ]
    }
   ],
   "source": [
    "weeks = 10\n",
    "previous = possible.copy()\n",
    "for i in range(2,weeks +1):\n",
    "    print(i)\n",
    "    weekx = swap(2, previous)\n",
    "    print(compare(weekx, matches))\n",
    "    previous = weekx.copy()"
   ]
  },
  {
   "cell_type": "code",
   "execution_count": null,
   "metadata": {},
   "outputs": [],
   "source": []
  }
 ],
 "metadata": {
  "kernelspec": {
   "display_name": "Python 3",
   "language": "python",
   "name": "python3"
  },
  "language_info": {
   "codemirror_mode": {
    "name": "ipython",
    "version": 3
   },
   "file_extension": ".py",
   "mimetype": "text/x-python",
   "name": "python",
   "nbconvert_exporter": "python",
   "pygments_lexer": "ipython3",
   "version": "3.6.5"
  }
 },
 "nbformat": 4,
 "nbformat_minor": 2
}
